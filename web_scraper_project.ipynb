{
 "cells": [
  {
   "cell_type": "code",
   "execution_count": 5,
   "id": "e53dc575-78fb-452c-b42d-f47eb83f32b5",
   "metadata": {},
   "outputs": [],
   "source": [
    "from bs4 import BeautifulSoup\n",
    "import requests\n",
    "import smtplib\n",
    "import time\n",
    "import datetime"
   ]
  },
  {
   "cell_type": "code",
   "execution_count": 6,
   "id": "62bafc8f-a86a-49e1-bda4-b70159f9cac5",
   "metadata": {},
   "outputs": [
    {
     "name": "stdout",
     "output_type": "stream",
     "text": [
      "Python. Instrukcje dla programisty\n",
      "82,90\n"
     ]
    }
   ],
   "source": [
    "URL =  'https://www.taniaksiazka.pl/python-instrukcje-dla-programisty-w-3-eric-matthes-p-1914264.html'\n",
    "\n",
    "headers = {\"User-Agent\": \"Mozilla/5.0 (Windows NT 10.0; Win64; x64) AppleWebKit/537.36 (KHTML, like Gecko) Chrome/135.0.0.0 Safari/537.36\"} \n",
    "\n",
    "page = requests.get(URL, headers = headers)\n",
    "\n",
    "soup1 = BeautifulSoup(page.content, \"html.parser\")\n",
    "\n",
    "title = soup1.find(class_=\"product-info-title\")\n",
    "if title:\n",
    "    title=title.get_text(strip=True)\n",
    "    title=title[:-4]\n",
    "    print(title)\n",
    "else:\n",
    "    print(\"Product Title not found\")\n",
    "\n",
    "price = soup1.find(class_=\"product-price updateable_price\")\n",
    "if price:\n",
    "    price = price.get_text(strip=True)\n",
    "    price = price[:-2]\n",
    "    print(price)\n",
    "else:\n",
    "    print(\"Price not found\")"
   ]
  },
  {
   "cell_type": "code",
   "execution_count": 9,
   "id": "b0a1e507-faa9-4f82-8c8a-24cf748d356b",
   "metadata": {},
   "outputs": [
    {
     "name": "stdout",
     "output_type": "stream",
     "text": [
      "2025-05-26\n"
     ]
    }
   ],
   "source": [
    "import datetime\n",
    "today = datetime.date.today()\n",
    "print(today)"
   ]
  },
  {
   "cell_type": "code",
   "execution_count": 11,
   "id": "004e780b-bff9-4481-a859-da994f0f55cc",
   "metadata": {},
   "outputs": [],
   "source": [
    "import csv\n",
    "import os\n",
    "\n",
    "header = ['Title', 'Price', 'Date']\n",
    "data = [title, price, today]\n",
    "\n",
    "file_path = 'BookStoreScraperDataSet.csv'\n",
    "file_exists = os.path.exists(file_path)\n",
    "\n",
    "\n",
    "with open(file_path, 'a', newline='', encoding='utf8') as f:\n",
    "    writer = csv.writer(f)\n",
    "    \n",
    "    # tylko jeśli plik NIE istnieje → dodaj nagłówek\n",
    "    if not file_exists:\n",
    "        writer.writerow(header)\n",
    "    \n",
    "    # dopisz dane\n",
    "    writer.writerow(data)\n",
    "#with open('BookStoreScraperDataSet.csv', 'w', newline='', encoding='UTF8') as f:\n",
    "    #writer = csv.writer(f)\n",
    "    #writer.writerow(header)\n",
    "    #writer.writerow(data)\n",
    "    \n",
    "\n"
   ]
  },
  {
   "cell_type": "code",
   "execution_count": 13,
   "id": "c0e71868-c413-4dc0-8a42-eaa6d0a18233",
   "metadata": {},
   "outputs": [
    {
     "data": {
      "text/html": [
       "<div>\n",
       "<style scoped>\n",
       "    .dataframe tbody tr th:only-of-type {\n",
       "        vertical-align: middle;\n",
       "    }\n",
       "\n",
       "    .dataframe tbody tr th {\n",
       "        vertical-align: top;\n",
       "    }\n",
       "\n",
       "    .dataframe thead th {\n",
       "        text-align: right;\n",
       "    }\n",
       "</style>\n",
       "<table border=\"1\" class=\"dataframe\">\n",
       "  <thead>\n",
       "    <tr style=\"text-align: right;\">\n",
       "      <th></th>\n",
       "      <th>Title</th>\n",
       "      <th>Price</th>\n",
       "      <th>Date</th>\n",
       "    </tr>\n",
       "  </thead>\n",
       "  <tbody>\n",
       "    <tr>\n",
       "      <th>0</th>\n",
       "      <td>Python. Instrukcje dla programisty</td>\n",
       "      <td>82,90</td>\n",
       "      <td>2025-05-26</td>\n",
       "    </tr>\n",
       "  </tbody>\n",
       "</table>\n",
       "</div>"
      ],
      "text/plain": [
       "                                Title  Price        Date\n",
       "0  Python. Instrukcje dla programisty  82,90  2025-05-26"
      ]
     },
     "execution_count": 13,
     "metadata": {},
     "output_type": "execute_result"
    }
   ],
   "source": [
    "import pandas as pd\n",
    "\n",
    "df = pd.read_csv('BookStoreScraperDataSet.csv')\n",
    "\n",
    "df"
   ]
  },
  {
   "cell_type": "code",
   "execution_count": 15,
   "id": "afbd1ba7-71c8-47b3-8a9a-36acdc97a50d",
   "metadata": {},
   "outputs": [],
   "source": [
    "with open('BookStoreScraperDataSet.csv', 'a+', newline='', encoding='UTF8') as f:\n",
    "    writer = csv.writer(f)\n",
    "    writer.writerow(data)"
   ]
  },
  {
   "cell_type": "code",
   "execution_count": 17,
   "id": "26de9ff2-3c6f-4c84-a4e5-8cc4561e758c",
   "metadata": {},
   "outputs": [],
   "source": [
    "def price_check():\n",
    "    URL = 'https://www.taniaksiazka.pl/python-instrukcje-dla-programisty-w-3-eric-matthes-p-1914264.html'\n",
    "    headers = {\"User-Agent\": \"Mozilla/5.0 (Windows NT 10.0; Win64; x64) AppleWebKit/537.36 (KHTML, like Gecko) Chrome/135.0.0.0 Safari/537.36\"}\n",
    "\n",
    "    page = requests.get(URL, headers=headers)\n",
    "    soup1 = BeautifulSoup(page.content, \"html.parser\")\n",
    "\n",
    "    title_tag = soup1.find(class_=\"product-info-title\")\n",
    "    if title_tag:\n",
    "        title = title_tag.get_text(strip=True)\n",
    "        title = title[:-4]\n",
    "    else:\n",
    "        title = \"Product Title not found\"\n",
    "\n",
    "    price_tag = soup1.find(class_=\"product-price updateable_price\")\n",
    "    if price_tag:\n",
    "        price = price_tag.get_text(strip=True)\n",
    "        price = price[:-2]\n",
    "    else:\n",
    "        price = \"Price not found\"\n",
    "\n",
    "\n",
    "    import datetime\n",
    "    today = datetime.date.today()\n",
    "    header = ['Title', 'Price', 'Date']\n",
    "    data = [title, price, today]\n",
    "\n",
    "    with open('BookStoreScraperDataSet.csv', 'a', newline='', encoding='UTF8') as f:\n",
    "        writer = csv.writer(f)\n",
    "        writer.writerow(data)\n"
   ]
  },
  {
   "cell_type": "code",
   "execution_count": null,
   "id": "cfa7f6a0-1696-4344-b2a3-c6791b2761b1",
   "metadata": {},
   "outputs": [],
   "source": [
    "while(True):\n",
    "    price_check()\n",
    "    time.sleep(1000)"
   ]
  },
  {
   "cell_type": "code",
   "execution_count": null,
   "id": "9f5f59cc-e590-4a3a-9858-4b5639349771",
   "metadata": {},
   "outputs": [],
   "source": [
    "df"
   ]
  },
  {
   "cell_type": "code",
   "execution_count": null,
   "id": "ff44e769-d5cd-41c1-9359-acc8a718ec4d",
   "metadata": {},
   "outputs": [],
   "source": [
    "\n"
   ]
  },
  {
   "cell_type": "code",
   "execution_count": null,
   "id": "61d5b946-1806-43d4-ad0f-2d7facfaa901",
   "metadata": {},
   "outputs": [],
   "source": []
  }
 ],
 "metadata": {
  "kernelspec": {
   "display_name": "Python [conda env:base] *",
   "language": "python",
   "name": "conda-base-py"
  },
  "language_info": {
   "codemirror_mode": {
    "name": "ipython",
    "version": 3
   },
   "file_extension": ".py",
   "mimetype": "text/x-python",
   "name": "python",
   "nbconvert_exporter": "python",
   "pygments_lexer": "ipython3",
   "version": "3.12.7"
  }
 },
 "nbformat": 4,
 "nbformat_minor": 5
}
